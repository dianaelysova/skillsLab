{
 "cells": [
  {
   "cell_type": "code",
   "execution_count": null,
   "metadata": {},
   "outputs": [],
   "source": [
    "from random import randint\n",
    "\n",
    "def generate(num1, low, high):\n",
    "   for x in range(num1):\n",
    "        i = randint(low, high)\n",
    "        if(i>=low) and (i<=high):\n",
    "            print(i)\n",
    "\n",
    "num = int(input(\"how many integers?\"))\n",
    "low = int(input(\"What is the lower bound?\"))\n",
    "high= int(input(\"What is the upper bound?\"))\n",
    "generate(num, low, high)"
   ]
  }
 ],
 "metadata": {
  "kernelspec": {
   "display_name": "Python 3",
   "language": "python",
   "name": "python3"
  },
  "language_info": {
   "codemirror_mode": {
    "name": "ipython",
    "version": 3
   },
   "file_extension": ".py",
   "mimetype": "text/x-python",
   "name": "python",
   "nbconvert_exporter": "python",
   "pygments_lexer": "ipython3",
   "version": "3.8.3"
  }
 },
 "nbformat": 4,
 "nbformat_minor": 4
}
